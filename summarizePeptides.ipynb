{
 "cells": [
  {
   "cell_type": "code",
   "execution_count": 62,
   "metadata": {
    "collapsed": false
   },
   "outputs": [
    {
     "ename": "AttributeError",
     "evalue": "'module' object has no attribute 'testImport'",
     "output_type": "error",
     "traceback": [
      "\u001b[1;31m---------------------------------------------------------------------------\u001b[0m",
      "\u001b[1;31mAttributeError\u001b[0m                            Traceback (most recent call last)",
      "\u001b[1;32m<ipython-input-62-be78c7ce398e>\u001b[0m in \u001b[0;36m<module>\u001b[1;34m()\u001b[0m\n\u001b[0;32m     76\u001b[0m \u001b[1;33m\u001b[0m\u001b[0m\n\u001b[0;32m     77\u001b[0m \u001b[0mc\u001b[0m \u001b[1;33m=\u001b[0m \u001b[0mConvertImages\u001b[0m\u001b[1;33m(\u001b[0m\u001b[0mpathDir\u001b[0m\u001b[1;33m,\u001b[0m\u001b[0mdestDir\u001b[0m\u001b[1;33m)\u001b[0m\u001b[1;33m\u001b[0m\u001b[0m\n\u001b[1;32m---> 78\u001b[1;33m \u001b[0mc\u001b[0m\u001b[1;33m.\u001b[0m\u001b[0mtestImport\u001b[0m\u001b[1;33m(\u001b[0m\u001b[1;33m)\u001b[0m\u001b[1;33m\u001b[0m\u001b[0m\n\u001b[0m\u001b[0;32m     79\u001b[0m \u001b[1;31m#pattern = \"*Cycles*.tif\"\u001b[0m\u001b[1;33m\u001b[0m\u001b[1;33m\u001b[0m\u001b[0m\n\u001b[0;32m     80\u001b[0m \u001b[1;31m#c.convertPattern(pattern)\u001b[0m\u001b[1;33m\u001b[0m\u001b[1;33m\u001b[0m\u001b[0m\n",
      "\u001b[1;32m<ipython-input-62-be78c7ce398e>\u001b[0m in \u001b[0;36mtestImport\u001b[1;34m(self)\u001b[0m\n\u001b[0;32m     57\u001b[0m     \u001b[1;32mdef\u001b[0m \u001b[0mtestImport\u001b[0m\u001b[1;33m(\u001b[0m\u001b[0mself\u001b[0m\u001b[1;33m)\u001b[0m\u001b[1;33m:\u001b[0m\u001b[1;33m\u001b[0m\u001b[0m\n\u001b[0;32m     58\u001b[0m         \u001b[1;32mimport\u001b[0m \u001b[0mconvertingImages\u001b[0m \u001b[1;32mas\u001b[0m \u001b[0mimages\u001b[0m\u001b[1;33m\u001b[0m\u001b[0m\n\u001b[1;32m---> 59\u001b[1;33m         \u001b[0mimages\u001b[0m\u001b[1;33m.\u001b[0m\u001b[0mtestImport\u001b[0m\u001b[1;33m(\u001b[0m\u001b[1;36m1\u001b[0m\u001b[1;33m)\u001b[0m\u001b[1;33m\u001b[0m\u001b[0m\n\u001b[0m\u001b[0;32m     60\u001b[0m \u001b[1;33m\u001b[0m\u001b[0m\n\u001b[0;32m     61\u001b[0m     \u001b[1;32mdef\u001b[0m \u001b[0mconvertPattern\u001b[0m\u001b[1;33m(\u001b[0m\u001b[0mself\u001b[0m\u001b[1;33m,\u001b[0m\u001b[0mpattern\u001b[0m\u001b[1;33m)\u001b[0m\u001b[1;33m:\u001b[0m\u001b[1;33m\u001b[0m\u001b[0m\n",
      "\u001b[1;31mAttributeError\u001b[0m: 'module' object has no attribute 'testImport'"
     ]
    }
   ],
   "source": [
    "\"\"\"\n",
    "Combing all the summarizing scripts to make something more consistent and huge file\n",
    "Three major classes or functions are  - \n",
    "(a) Converting the images - autoscaling them - random images as well as converting a field or all fields\n",
    "(b) Tab delimited file for summarizing the count density\n",
    "(c) Tab delimited file for summarizing the track counts\n",
    "\"\"\"\n",
    "\n",
    "import os\n",
    "import sys\n",
    "import time\n",
    "import collections\n",
    "import numpy as np\n",
    "import cPickle as pickle\n",
    "import re\n",
    "import socket\n",
    "#sys.path.append('/project/marcotte/jagannath/projectfiles/proteomics_single_molecule/imageAnalysis')\n",
    "sys.path.append('/project/marcotte/jagannath/projectfiles/proteomics_single_molecule/imageAnalysis')\n",
    "\n",
    "\n",
    "def getDirectory(hostname,dateStamp,microscopeNbr):\n",
    "    month = {'01':'Jan','02':'Feb','03':'Mar','04':'Apr','06':'June','07':'July','10':'Oct','11':'Nov','12':'Dec'}\n",
    "    #[ARG, dateStamp] = sys.argv[1:]\n",
    "    yearStamp = dateStamp.split('-')[0]\n",
    "    monthStamp = yearStamp+\"-\"+month[dateStamp.split('-')[1]]\n",
    "    \n",
    "    if hostname == 'canopus':head = \"/home/jaggu/marcotte_project\"    \n",
    "    else: head = \"/project\"\n",
    "    \n",
    "    if microscopeNbr is 1:\n",
    "        sourceDir = os.path.join(head,\"boulgakov/microscope\")\n",
    "        pathDir = os.path.join(sourceDir,monthStamp,dateStamp)\n",
    "        destDir = os.path.join(head,\"current/project2/jaggu/dataAnalysis/microscope1\",monthStamp,dateStamp)\n",
    "    elif microscopeNbr is 2:\n",
    "        sourceDir = os.path.join(head,\"boulgakov/microscope2/jagannath/rawFiles\")\n",
    "        pathDir = os.path.join(sourceDir,monthStamp,dateStamp)\n",
    "        destDir = os.path.join(head,\"current/project2/jaggu/dataAnalysis/microscope2\",monthStamp,dateStamp)\n",
    "    elif microscopeNbr is 3:                                                                                                                 \n",
    "        sourceDir = os.path.join(head,\"boulgakov/microscope3/rawFiles/jagannath\")                                                                   \n",
    "        pathDir = os.path.join(sourceDir,monthStamp,dateStamp)                                                                             \n",
    "        destDir = os.path.join(head,\"current/project2/jaggu/dataAnalysis/microscope3\",monthStamp,dateStamp)    \n",
    "    else:\n",
    "        raise SystemExit(\"Incorrect microscope number. Quiting ..\")\n",
    "    \n",
    "    if not os.path.exists(destDir): os.makedirs(destDir)\n",
    "    return sourceDir,pathDir,destDir\n",
    "\n",
    "\n",
    "class ConvertImages:\n",
    "    \"\"\"\n",
    "    Class that imports the convertingimages.py and does the appropriate images.\n",
    "    \"\"\"\n",
    "    def __init__(self,pathDir, destDir):\n",
    "        self.img_destDir = os.path.join(destDir,\"images\")\n",
    "        self.pathDir = pathDir\n",
    "\n",
    "    def testImport(self):\n",
    "        import convertingImages as images\n",
    "        images.testImport(1)\n",
    "        \n",
    "    def convertPattern(self,pattern):\n",
    "        \"\"\"\n",
    "        Walks through all the tifs in the pathDir and converts it to png, with autoscaling\n",
    "        \"\"\"\n",
    "        #images.convertSameFldImages(pattern,self.pathDir,self.img_destDir)\n",
    "        import convertingImages as images\n",
    "        images.testImport(1)\n",
    "        #images.convertSameFldImages(pattern)\n",
    "    \n",
    "        \n",
    "#parameters = [dateStamp, ARG]\n",
    "hostname = socket.gethostname()\n",
    "dateStamp = '2015-10-27'\n",
    "\n",
    "sourceDir,pathDir,destDir = getDirectory(hostname,dateStamp,1)\n",
    "\n",
    "c = ConvertImages(pathDir,destDir)\n",
    "c.testImport()\n",
    "#pattern = \"*Cycles*.tif\"\n",
    "#c.convertPattern(pattern)\n",
    "\n"
   ]
  },
  {
   "cell_type": "code",
   "execution_count": null,
   "metadata": {
    "collapsed": true
   },
   "outputs": [],
   "source": [
    "images."
   ]
  }
 ],
 "metadata": {
  "kernelspec": {
   "display_name": "Python 2",
   "language": "python",
   "name": "python2"
  },
  "language_info": {
   "codemirror_mode": {
    "name": "ipython",
    "version": 2
   },
   "file_extension": ".py",
   "mimetype": "text/x-python",
   "name": "python",
   "nbconvert_exporter": "python",
   "pygments_lexer": "ipython2",
   "version": "2.7.10"
  }
 },
 "nbformat": 4,
 "nbformat_minor": 0
}
